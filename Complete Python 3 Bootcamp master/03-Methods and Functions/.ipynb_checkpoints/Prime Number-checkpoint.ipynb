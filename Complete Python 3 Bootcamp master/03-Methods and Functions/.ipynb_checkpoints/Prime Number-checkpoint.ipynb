{
 "cells": [
  {
   "cell_type": "code",
   "execution_count": 65,
   "metadata": {},
   "outputs": [],
   "source": [
    "import timeit\n",
    "def is_prime_0(n):\n",
    "    '''\n",
    "    Naive approach.\n",
    "    '''\n",
    "    if n < 2:\n",
    "        print(f'{n} is not a prime number')\n",
    "    else:\n",
    "        for i in range(2,n):\n",
    "            if n % i == 0:\n",
    "                print(f'{n} is not a prime number')\n",
    "                break\n",
    "        else:\n",
    "            print(f'{n} is a prime number')"
   ]
  },
  {
   "cell_type": "code",
   "execution_count": 43,
   "metadata": {},
   "outputs": [
    {
     "name": "stdout",
     "output_type": "stream",
     "text": [
      "-3 is not a prime number\n"
     ]
    }
   ],
   "source": [
    "is_prime_0(-3)"
   ]
  },
  {
   "cell_type": "code",
   "execution_count": 47,
   "metadata": {},
   "outputs": [],
   "source": [
    "import math\n",
    "def is_prime_1(n):\n",
    "    '''\n",
    "    somewhat better method of checking for prime.\n",
    "    '''\n",
    "    if n < 2:\n",
    "        return False\n",
    "    for i in range(2,int(math.sqrt(n)+1)):\n",
    "        if i%n == 0:\n",
    "            return False\n",
    "            break\n",
    "    return True\n",
    "    "
   ]
  },
  {
   "cell_type": "code",
   "execution_count": 51,
   "metadata": {},
   "outputs": [
    {
     "data": {
      "text/plain": [
       "False"
      ]
     },
     "execution_count": 51,
     "metadata": {},
     "output_type": "execute_result"
    }
   ],
   "source": [
    "is_prime_1(-32)"
   ]
  },
  {
   "cell_type": "code",
   "execution_count": 63,
   "metadata": {},
   "outputs": [],
   "source": [
    "# Print prime numer between two number\n",
    "prime_number = []\n",
    "def primeNumber(size):\n",
    "    lst = [True]* size\n",
    "    lst[0] = False\n",
    "    lst[1] = False\n",
    "    for i in range(2,int(math.sqrt(size) +1)):\n",
    "        pointer = i * 2\n",
    "        while pointer < size:\n",
    "            lst[pointer] =  False\n",
    "            pointer += i \n",
    "    for i,num in enumerate(lst) :\n",
    "        if num:\n",
    "            prime_number.append(i)\n",
    "    return prime_number"
   ]
  },
  {
   "cell_type": "code",
   "execution_count": 64,
   "metadata": {},
   "outputs": [
    {
     "data": {
      "text/plain": [
       "[2, 3, 5, 7, 11, 13, 17, 19, 23]"
      ]
     },
     "execution_count": 64,
     "metadata": {},
     "output_type": "execute_result"
    }
   ],
   "source": [
    "primeNumber(24)"
   ]
  },
  {
   "cell_type": "code",
   "execution_count": null,
   "metadata": {},
   "outputs": [],
   "source": []
  }
 ],
 "metadata": {
  "kernelspec": {
   "display_name": "Python 3",
   "language": "python",
   "name": "python3"
  },
  "language_info": {
   "codemirror_mode": {
    "name": "ipython",
    "version": 3
   },
   "file_extension": ".py",
   "mimetype": "text/x-python",
   "name": "python",
   "nbconvert_exporter": "python",
   "pygments_lexer": "ipython3",
   "version": "3.7.3"
  }
 },
 "nbformat": 4,
 "nbformat_minor": 2
}
